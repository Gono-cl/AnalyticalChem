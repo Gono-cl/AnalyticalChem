{
 "cells": [
  {
   "cell_type": "markdown",
   "id": "54002027",
   "metadata": {},
   "source": [
    "# Chapter 2 – Python Basics for Analytical Chemistry\n",
    "\n",
    "In analytical chemistry, we constantly work with numbers: moles, concentrations, absorbance, peak areas, limits of detection.  \n",
    "To process and analyze these values, we need a systematic way to **store, manipulate, and document data**.  \n",
    "This is exactly what Python provides.\n",
    "\n",
    "In this chapter, you will learn how to:\n",
    "- Write clear **comments** in your code (like annotations in a lab notebook).  \n",
    "- Define and use **variables** to store chemical quantities.  \n",
    "- Understand different **data types** and when to use them.  \n",
    "- Organize data into **lists** and **dictionaries**, similar to calibration tables.  \n",
    "\n",
    "Let’s begin.\n"
   ]
  },
  {
   "cell_type": "markdown",
   "id": "13161cd7",
   "metadata": {},
   "source": [
    "## Comments in Python\n",
    "\n",
    "In analytical reports, we annotate procedures and results to ensure that others can reproduce our work.  \n",
    "In Python, we do the same using **comments**.  \n",
    "\n",
    "A comment starts with `#` and is ignored by the interpreter.  \n",
    "We use comments to describe what each line of code does.\n"
   ]
  },
  {
   "cell_type": "code",
   "execution_count": 1,
   "id": "ee301ff8",
   "metadata": {},
   "outputs": [
    {
     "name": "stdout",
     "output_type": "stream",
     "text": [
      "0.2\n"
     ]
    }
   ],
   "source": [
    "# Number of moles of analyte\n",
    "moles = 0.05  \n",
    "\n",
    "# Volume of solution in liters\n",
    "volume = 0.250  \n",
    "\n",
    "# Calculate molarity (mol/L)\n",
    "molarity = moles / volume  \n",
    "print(molarity)\n"
   ]
  },
  {
   "cell_type": "markdown",
   "id": "d781f300",
   "metadata": {},
   "source": [
    "## Variables\n",
    "\n",
    "A **variable** is a name that stores a value.  \n",
    "This is equivalent to recording *n* for moles, *V* for volume, or *A* for absorbance.  \n",
    "\n",
    "By assigning names, calculations become **transparent and reproducible**.\n"
   ]
  },
  {
   "cell_type": "code",
   "execution_count": 2,
   "id": "de93464b",
   "metadata": {},
   "outputs": [
    {
     "name": "stdout",
     "output_type": "stream",
     "text": [
      "Molarity: 0.2 M\n"
     ]
    }
   ],
   "source": [
    "moles = 0.05      # mol\n",
    "volume = 0.250    # L\n",
    "molarity = moles / volume\n",
    "\n",
    "print(\"Molarity:\", molarity, \"M\")\n"
   ]
  },
  {
   "cell_type": "markdown",
   "id": "fe2bc40b",
   "metadata": {},
   "source": [
    "## Data Types\n",
    "\n",
    "Every variable in Python has a **type**, just like every measurement in the lab has a unit and scale.  \n",
    "The most common data types for analytical chemistry are:\n",
    "\n",
    "- **Integer (`int`)** → whole numbers, e.g. number of replicate injections.  \n",
    "- **Float (`float`)** → real numbers with decimals, e.g. concentrations or absorbances.  \n",
    "- **String (`str`)** → text, e.g. sample IDs or chemical formulas.  \n",
    "- **Boolean (`bool`)** → logical values (`True`/`False`), e.g. was the calibration valid?  \n"
   ]
  },
  {
   "cell_type": "code",
   "execution_count": 3,
   "id": "b0176c89",
   "metadata": {},
   "outputs": [
    {
     "name": "stdout",
     "output_type": "stream",
     "text": [
      "<class 'str'>\n",
      "<class 'float'>\n"
     ]
    }
   ],
   "source": [
    "compound = \"NaCl\"     # string\n",
    "concentration = 0.1   # float (mol/L)\n",
    "replicates = 3        # integer\n",
    "is_standard = True    # boolean\n",
    "\n",
    "print(type(compound))\n",
    "print(type(concentration))\n"
   ]
  },
  {
   "cell_type": "markdown",
   "id": "a04d0db7",
   "metadata": {},
   "source": [
    "## Collections of Data\n",
    "\n",
    "In analytical chemistry, we rarely deal with a single value.  \n",
    "We often record **series of measurements** (replicates, calibration points, chromatographic peaks).  \n",
    "\n",
    "Python provides two powerful structures to handle such data:\n",
    "- **Lists** → ordered sequences (like replicate absorbance readings).  \n",
    "- **Dictionaries** → key-value pairs (like calibration standards with known concentrations).  \n"
   ]
  },
  {
   "cell_type": "code",
   "execution_count": null,
   "id": "3073041e",
   "metadata": {},
   "outputs": [
    {
     "name": "stdout",
     "output_type": "stream",
     "text": [
      "First replicate: 0.102\n"
     ]
    }
   ],
   "source": [
    "# List of absorbance readings from replicates\n",
    "absorbances = [0.102, 0.098, 0.101, 0.099, 0.100]\n",
    "print(\"First replicate:\", absorbances[0])\n"
   ]
  },
  {
   "cell_type": "code",
   "execution_count": null,
   "id": "37c1025b",
   "metadata": {},
   "outputs": [],
   "source": []
  },
  {
   "cell_type": "code",
   "execution_count": null,
   "id": "0e9fd954",
   "metadata": {},
   "outputs": [],
   "source": []
  }
 ],
 "metadata": {
  "kernelspec": {
   "display_name": "Analytical_Chem",
   "language": "python",
   "name": "python3"
  },
  "language_info": {
   "codemirror_mode": {
    "name": "ipython",
    "version": 3
   },
   "file_extension": ".py",
   "mimetype": "text/x-python",
   "name": "python",
   "nbconvert_exporter": "python",
   "pygments_lexer": "ipython3",
   "version": "3.13.5"
  }
 },
 "nbformat": 4,
 "nbformat_minor": 5
}
